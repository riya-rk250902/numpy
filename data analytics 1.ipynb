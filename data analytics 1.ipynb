{
 "cells": [
  {
   "cell_type": "code",
   "execution_count": 1,
   "id": "d64cdf43",
   "metadata": {},
   "outputs": [
    {
     "name": "stdout",
     "output_type": "stream",
     "text": [
      "[1 2 3]\n"
     ]
    }
   ],
   "source": [
    "#14 july 2023\n",
    "\n",
    "import numpy as np\n",
    "\n",
    "arr1 = np.array([1,2,3])\n",
    "\n",
    "print(arr1)\n",
    "\n",
    "\n",
    "\n"
   ]
  },
  {
   "cell_type": "code",
   "execution_count": 2,
   "id": "47c8bf2b",
   "metadata": {},
   "outputs": [
    {
     "name": "stdout",
     "output_type": "stream",
     "text": [
      "<class 'numpy.ndarray'>\n"
     ]
    }
   ],
   "source": [
    "print(type(arr1))"
   ]
  },
  {
   "cell_type": "code",
   "execution_count": 3,
   "id": "c51f351f",
   "metadata": {},
   "outputs": [
    {
     "name": "stdout",
     "output_type": "stream",
     "text": [
      "(3,)\n"
     ]
    }
   ],
   "source": [
    "print(arr1.shape)\n"
   ]
  },
  {
   "cell_type": "code",
   "execution_count": 4,
   "id": "753884be",
   "metadata": {},
   "outputs": [
    {
     "name": "stdout",
     "output_type": "stream",
     "text": [
      "3\n"
     ]
    }
   ],
   "source": [
    "print(arr1[2])"
   ]
  },
  {
   "cell_type": "code",
   "execution_count": 5,
   "id": "1b7102c8",
   "metadata": {},
   "outputs": [
    {
     "data": {
      "text/plain": [
       "array([1, 2, 5])"
      ]
     },
     "execution_count": 5,
     "metadata": {},
     "output_type": "execute_result"
    }
   ],
   "source": [
    "arr1[2]=5\n",
    "arr1"
   ]
  },
  {
   "cell_type": "code",
   "execution_count": 6,
   "id": "8ff86c82",
   "metadata": {},
   "outputs": [
    {
     "data": {
      "text/plain": [
       "array([[1, 2, 3],\n",
       "       [3, 4, 5]])"
      ]
     },
     "execution_count": 6,
     "metadata": {},
     "output_type": "execute_result"
    }
   ],
   "source": [
    "arr2=np.array([[1,2,3],[3,4,5]])\n",
    "arr2"
   ]
  },
  {
   "cell_type": "code",
   "execution_count": 7,
   "id": "fd4b086f",
   "metadata": {},
   "outputs": [
    {
     "data": {
      "text/plain": [
       "5"
      ]
     },
     "execution_count": 7,
     "metadata": {},
     "output_type": "execute_result"
    }
   ],
   "source": [
    "arr2[1][2]"
   ]
  },
  {
   "cell_type": "code",
   "execution_count": 8,
   "id": "599d7e9b",
   "metadata": {},
   "outputs": [
    {
     "name": "stdout",
     "output_type": "stream",
     "text": [
      "(2, 3)\n"
     ]
    }
   ],
   "source": [
    "print(arr2.shape)\n"
   ]
  },
  {
   "cell_type": "code",
   "execution_count": 9,
   "id": "289a2c44",
   "metadata": {},
   "outputs": [
    {
     "ename": "NameError",
     "evalue": "name 'arr' is not defined",
     "output_type": "error",
     "traceback": [
      "\u001b[1;31m---------------------------------------------------------------------------\u001b[0m",
      "\u001b[1;31mNameError\u001b[0m                                 Traceback (most recent call last)",
      "Cell \u001b[1;32mIn[9], line 1\u001b[0m\n\u001b[1;32m----> 1\u001b[0m arr[\u001b[38;5;241m1\u001b[39m,\u001b[38;5;241m2\u001b[39m]\n",
      "\u001b[1;31mNameError\u001b[0m: name 'arr' is not defined"
     ]
    }
   ],
   "source": [
    "arr[1,2]"
   ]
  },
  {
   "cell_type": "code",
   "execution_count": 10,
   "id": "23209357",
   "metadata": {},
   "outputs": [
    {
     "data": {
      "text/plain": [
       "5"
      ]
     },
     "execution_count": 10,
     "metadata": {},
     "output_type": "execute_result"
    }
   ],
   "source": [
    "arr2[1,2]"
   ]
  },
  {
   "cell_type": "code",
   "execution_count": 11,
   "id": "ea062249",
   "metadata": {},
   "outputs": [
    {
     "data": {
      "text/plain": [
       "5"
      ]
     },
     "execution_count": 11,
     "metadata": {},
     "output_type": "execute_result"
    }
   ],
   "source": [
    "arr2[1,-1]"
   ]
  },
  {
   "cell_type": "code",
   "execution_count": 12,
   "id": "67a98c99",
   "metadata": {},
   "outputs": [
    {
     "data": {
      "text/plain": [
       "4"
      ]
     },
     "execution_count": 12,
     "metadata": {},
     "output_type": "execute_result"
    }
   ],
   "source": [
    "arr2[1,-2]"
   ]
  },
  {
   "cell_type": "code",
   "execution_count": 13,
   "id": "7bec6246",
   "metadata": {},
   "outputs": [
    {
     "data": {
      "text/plain": [
       "array(['china', 'India', 'USA', 'morroco'], dtype='<U7')"
      ]
     },
     "execution_count": 13,
     "metadata": {},
     "output_type": "execute_result"
    }
   ],
   "source": [
    "arrS = np.array(['china','India','USA', 'morroco'])\n",
    "arrS"
   ]
  },
  {
   "cell_type": "code",
   "execution_count": 14,
   "id": "58432e40",
   "metadata": {},
   "outputs": [
    {
     "data": {
      "text/plain": [
       "array([ 0,  2,  4,  6,  8, 10, 12, 14, 16, 18])"
      ]
     },
     "execution_count": 14,
     "metadata": {},
     "output_type": "execute_result"
    }
   ],
   "source": [
    "arrR = np.arange(0,20,2)\n",
    "arrR"
   ]
  },
  {
   "cell_type": "code",
   "execution_count": 15,
   "id": "edd23df7",
   "metadata": {},
   "outputs": [
    {
     "data": {
      "text/plain": [
       "array([ 0.        ,  0.52631579,  1.05263158,  1.57894737,  2.10526316,\n",
       "        2.63157895,  3.15789474,  3.68421053,  4.21052632,  4.73684211,\n",
       "        5.26315789,  5.78947368,  6.31578947,  6.84210526,  7.36842105,\n",
       "        7.89473684,  8.42105263,  8.94736842,  9.47368421, 10.        ])"
      ]
     },
     "execution_count": 15,
     "metadata": {},
     "output_type": "execute_result"
    }
   ],
   "source": [
    "arrL = np.linspace(0,10, 20)\n",
    "arrL"
   ]
  },
  {
   "cell_type": "code",
   "execution_count": 16,
   "id": "0e44bcfa",
   "metadata": {},
   "outputs": [],
   "source": [
    "arr= np.random.rand(10)\n"
   ]
  },
  {
   "cell_type": "code",
   "execution_count": 17,
   "id": "99dfb3f5",
   "metadata": {},
   "outputs": [
    {
     "data": {
      "text/plain": [
       "array([0.45349577, 0.25571303, 0.54280733, 0.96493802, 0.12399999,\n",
       "       0.61944732, 0.41783786, 0.35550824, 0.13042989, 0.3465584 ])"
      ]
     },
     "execution_count": 17,
     "metadata": {},
     "output_type": "execute_result"
    }
   ],
   "source": [
    "arr= np.random.rand(10)\n",
    "arr\n"
   ]
  },
  {
   "cell_type": "code",
   "execution_count": 18,
   "id": "c3dd0700",
   "metadata": {},
   "outputs": [
    {
     "data": {
      "text/plain": [
       "array([[0.67975228, 0.77630664, 0.43269655, 0.16749175],\n",
       "       [0.36870772, 0.71969178, 0.8917926 , 0.56250609],\n",
       "       [0.2715943 , 0.56329204, 0.85968918, 0.10501766]])"
      ]
     },
     "execution_count": 18,
     "metadata": {},
     "output_type": "execute_result"
    }
   ],
   "source": [
    "arr = np.random.rand(3,4)\n",
    "arr\n"
   ]
  },
  {
   "cell_type": "code",
   "execution_count": 19,
   "id": "6b2fcadb",
   "metadata": {},
   "outputs": [
    {
     "ename": "AttributeError",
     "evalue": "module 'numpy' has no attribute 'zeroes'",
     "output_type": "error",
     "traceback": [
      "\u001b[1;31m---------------------------------------------------------------------------\u001b[0m",
      "\u001b[1;31mAttributeError\u001b[0m                            Traceback (most recent call last)",
      "Cell \u001b[1;32mIn[19], line 1\u001b[0m\n\u001b[1;32m----> 1\u001b[0m \u001b[38;5;28mprint\u001b[39m(np\u001b[38;5;241m.\u001b[39mzeroes(\u001b[38;5;241m10\u001b[39m))\n\u001b[0;32m      2\u001b[0m \u001b[38;5;28mprint\u001b[39m(\u001b[38;5;124m'\u001b[39m\u001b[38;5;124m/n\u001b[39m\u001b[38;5;124m'\u001b[39m)\n\u001b[0;32m      3\u001b[0m \u001b[38;5;28mprint\u001b[39m(np\u001b[38;5;241m.\u001b[39mzeroes((\u001b[38;5;241m2\u001b[39m,\u001b[38;5;241m3\u001b[39m)))\n",
      "File \u001b[1;32m~\\anaconda3\\Lib\\site-packages\\numpy\\__init__.py:320\u001b[0m, in \u001b[0;36m__getattr__\u001b[1;34m(attr)\u001b[0m\n\u001b[0;32m    317\u001b[0m     \u001b[38;5;28;01mfrom\u001b[39;00m \u001b[38;5;21;01m.\u001b[39;00m\u001b[38;5;21;01mtesting\u001b[39;00m \u001b[38;5;28;01mimport\u001b[39;00m Tester\n\u001b[0;32m    318\u001b[0m     \u001b[38;5;28;01mreturn\u001b[39;00m Tester\n\u001b[1;32m--> 320\u001b[0m \u001b[38;5;28;01mraise\u001b[39;00m \u001b[38;5;167;01mAttributeError\u001b[39;00m(\u001b[38;5;124m\"\u001b[39m\u001b[38;5;124mmodule \u001b[39m\u001b[38;5;132;01m{!r}\u001b[39;00m\u001b[38;5;124m has no attribute \u001b[39m\u001b[38;5;124m\"\u001b[39m\n\u001b[0;32m    321\u001b[0m                      \u001b[38;5;124m\"\u001b[39m\u001b[38;5;132;01m{!r}\u001b[39;00m\u001b[38;5;124m\"\u001b[39m\u001b[38;5;241m.\u001b[39mformat(\u001b[38;5;18m__name__\u001b[39m, attr))\n",
      "\u001b[1;31mAttributeError\u001b[0m: module 'numpy' has no attribute 'zeroes'"
     ]
    }
   ],
   "source": [
    "print(np.zeroes(10))\n",
    "print('/n')\n",
    "print(np.zeroes((2,3)))\n"
   ]
  },
  {
   "cell_type": "code",
   "execution_count": 20,
   "id": "2af64a0c",
   "metadata": {},
   "outputs": [
    {
     "name": "stdout",
     "output_type": "stream",
     "text": [
      "[0. 0. 0. 0. 0. 0. 0. 0. 0. 0.]\n",
      "/n\n",
      "[[0. 0. 0.]\n",
      " [0. 0. 0.]]\n"
     ]
    }
   ],
   "source": [
    "print(np.zeros(10))\n",
    "print('/n')\n",
    "print(np.zeros((2,3)))"
   ]
  },
  {
   "cell_type": "code",
   "execution_count": 21,
   "id": "aff6a4d9",
   "metadata": {},
   "outputs": [
    {
     "name": "stdout",
     "output_type": "stream",
     "text": [
      "[[1. 1. 1. 1.]\n",
      " [1. 1. 1. 1.]\n",
      " [1. 1. 1. 1.]]\n"
     ]
    }
   ],
   "source": [
    "print(np.ones((3,4)))\n"
   ]
  },
  {
   "cell_type": "code",
   "execution_count": 23,
   "id": "84d28e72",
   "metadata": {},
   "outputs": [
    {
     "name": "stdout",
     "output_type": "stream",
     "text": [
      "[[1. 1. 1. 1. 1. 1. 1. 1. 1. 1.]\n",
      " [1. 1. 1. 1. 1. 1. 1. 1. 1. 1.]\n",
      " [1. 1. 1. 1. 1. 1. 1. 1. 1. 1.]\n",
      " [1. 1. 1. 1. 1. 1. 1. 1. 1. 1.]\n",
      " [1. 1. 1. 1. 1. 1. 1. 1. 1. 1.]\n",
      " [1. 1. 1. 1. 1. 1. 1. 1. 1. 1.]\n",
      " [1. 1. 1. 1. 1. 1. 1. 1. 1. 1.]\n",
      " [1. 1. 1. 1. 1. 1. 1. 1. 1. 1.]\n",
      " [1. 1. 1. 1. 1. 1. 1. 1. 1. 1.]\n",
      " [1. 1. 1. 1. 1. 1. 1. 1. 1. 1.]]\n"
     ]
    }
   ],
   "source": [
    "print(np.ones((10,10)))"
   ]
  },
  {
   "cell_type": "code",
   "execution_count": 25,
   "id": "7e5e0817",
   "metadata": {},
   "outputs": [
    {
     "name": "stdout",
     "output_type": "stream",
     "text": [
      "[0 0 0 1 1 1 2 2 2]\n"
     ]
    }
   ],
   "source": [
    "arr= [0, 1, 2]\n",
    "print(np.repeat(arr , 3))"
   ]
  },
  {
   "cell_type": "code",
   "execution_count": 26,
   "id": "b0f09d50",
   "metadata": {},
   "outputs": [
    {
     "name": "stdout",
     "output_type": "stream",
     "text": [
      "[0 1 2 0 1 2 0 1 2]\n"
     ]
    }
   ],
   "source": [
    "print(np.tile(arr,3))"
   ]
  },
  {
   "cell_type": "code",
   "execution_count": 27,
   "id": "6d5db1d6",
   "metadata": {},
   "outputs": [
    {
     "data": {
      "text/plain": [
       "array([[1., 0., 0.],\n",
       "       [0., 1., 0.],\n",
       "       [0., 0., 1.]])"
      ]
     },
     "execution_count": 27,
     "metadata": {},
     "output_type": "execute_result"
    }
   ],
   "source": [
    "identity_matrix = np.eye(3)\n",
    "identity_matrix"
   ]
  },
  {
   "cell_type": "code",
   "execution_count": 29,
   "id": "40f92676",
   "metadata": {},
   "outputs": [
    {
     "data": {
      "text/plain": [
       "array([[1, 0, 0, 0, 0],\n",
       "       [0, 2, 0, 0, 0],\n",
       "       [0, 0, 3, 0, 0],\n",
       "       [0, 0, 0, 4, 0],\n",
       "       [0, 0, 0, 0, 5]])"
      ]
     },
     "execution_count": 29,
     "metadata": {},
     "output_type": "execute_result"
    }
   ],
   "source": [
    "np.diag([1,2,3,4,5])"
   ]
  },
  {
   "cell_type": "code",
   "execution_count": 30,
   "id": "9f6081b7",
   "metadata": {},
   "outputs": [
    {
     "data": {
      "text/plain": [
       "array([[0.74154107, 0.67477998, 0.78857178, 0.19185236, 0.35149008],\n",
       "       [0.7547273 , 0.38944562, 0.38601123, 0.59220407, 0.53875774],\n",
       "       [0.91345111, 0.63611349, 0.80579891, 0.25529706, 0.54010963],\n",
       "       [0.31882072, 0.40899744, 0.26132854, 0.39078399, 0.39757923],\n",
       "       [0.76871643, 0.67770975, 0.64163922, 0.66659623, 0.99164796]])"
      ]
     },
     "execution_count": 30,
     "metadata": {},
     "output_type": "execute_result"
    }
   ],
   "source": [
    "arr = np.random.rand(5,5)\n",
    "arr\n"
   ]
  },
  {
   "cell_type": "code",
   "execution_count": 31,
   "id": "faea3f48",
   "metadata": {},
   "outputs": [
    {
     "data": {
      "text/plain": [
       "array([0.74154107, 0.38944562, 0.80579891, 0.39078399, 0.99164796])"
      ]
     },
     "execution_count": 31,
     "metadata": {},
     "output_type": "execute_result"
    }
   ],
   "source": [
    "np.diag(arr)\n"
   ]
  },
  {
   "cell_type": "code",
   "execution_count": 32,
   "id": "a12e5ad2",
   "metadata": {},
   "outputs": [
    {
     "data": {
      "text/plain": [
       "2"
      ]
     },
     "execution_count": 32,
     "metadata": {},
     "output_type": "execute_result"
    }
   ],
   "source": [
    "arr.ndim"
   ]
  },
  {
   "cell_type": "code",
   "execution_count": 33,
   "id": "390da4aa",
   "metadata": {},
   "outputs": [
    {
     "data": {
      "text/plain": [
       "25"
      ]
     },
     "execution_count": 33,
     "metadata": {},
     "output_type": "execute_result"
    }
   ],
   "source": [
    "arr.size"
   ]
  },
  {
   "cell_type": "code",
   "execution_count": 34,
   "id": "5a1803ee",
   "metadata": {},
   "outputs": [
    {
     "data": {
      "text/plain": [
       "(5, 5)"
      ]
     },
     "execution_count": 34,
     "metadata": {},
     "output_type": "execute_result"
    }
   ],
   "source": [
    "arr.shape"
   ]
  },
  {
   "cell_type": "code",
   "execution_count": 35,
   "id": "61538c19",
   "metadata": {},
   "outputs": [
    {
     "data": {
      "text/plain": [
       "array([-7,  7, -7,  0])"
      ]
     },
     "execution_count": 35,
     "metadata": {},
     "output_type": "execute_result"
    }
   ],
   "source": [
    "np.random.randint(-10,10,4)\n"
   ]
  },
  {
   "cell_type": "code",
   "execution_count": 36,
   "id": "ee7efa00",
   "metadata": {},
   "outputs": [
    {
     "data": {
      "text/plain": [
       "array([[10.74154107, 10.67477998, 10.78857178, 10.19185236, 10.35149008],\n",
       "       [10.7547273 , 10.38944562, 10.38601123, 10.59220407, 10.53875774],\n",
       "       [10.91345111, 10.63611349, 10.80579891, 10.25529706, 10.54010963],\n",
       "       [10.31882072, 10.40899744, 10.26132854, 10.39078399, 10.39757923],\n",
       "       [10.76871643, 10.67770975, 10.64163922, 10.66659623, 10.99164796]])"
      ]
     },
     "execution_count": 36,
     "metadata": {},
     "output_type": "execute_result"
    }
   ],
   "source": [
    "arr+10\n"
   ]
  },
  {
   "cell_type": "code",
   "execution_count": 37,
   "id": "b0db072b",
   "metadata": {},
   "outputs": [
    {
     "data": {
      "text/plain": [
       "array([[20.74154107, 20.67477998, 20.78857178, 20.19185236, 20.35149008],\n",
       "       [20.7547273 , 20.38944562, 20.38601123, 20.59220407, 20.53875774],\n",
       "       [20.91345111, 20.63611349, 20.80579891, 20.25529706, 20.54010963],\n",
       "       [20.31882072, 20.40899744, 20.26132854, 20.39078399, 20.39757923],\n",
       "       [20.76871643, 20.67770975, 20.64163922, 20.66659623, 20.99164796]])"
      ]
     },
     "execution_count": 37,
     "metadata": {},
     "output_type": "execute_result"
    }
   ],
   "source": [
    "arr+20\n"
   ]
  },
  {
   "cell_type": "code",
   "execution_count": 38,
   "id": "624c955d",
   "metadata": {},
   "outputs": [
    {
     "data": {
      "text/plain": [
       "array([[-9.25845893, -9.32522002, -9.21142822, -9.80814764, -9.64850992],\n",
       "       [-9.2452727 , -9.61055438, -9.61398877, -9.40779593, -9.46124226],\n",
       "       [-9.08654889, -9.36388651, -9.19420109, -9.74470294, -9.45989037],\n",
       "       [-9.68117928, -9.59100256, -9.73867146, -9.60921601, -9.60242077],\n",
       "       [-9.23128357, -9.32229025, -9.35836078, -9.33340377, -9.00835204]])"
      ]
     },
     "execution_count": 38,
     "metadata": {},
     "output_type": "execute_result"
    }
   ],
   "source": [
    "arr-10"
   ]
  },
  {
   "cell_type": "code",
   "execution_count": 39,
   "id": "826dc8ca",
   "metadata": {},
   "outputs": [
    {
     "data": {
      "text/plain": [
       "array([[0.37077054, 0.33738999, 0.39428589, 0.09592618, 0.17574504],\n",
       "       [0.37736365, 0.19472281, 0.19300561, 0.29610204, 0.26937887],\n",
       "       [0.45672555, 0.31805675, 0.40289946, 0.12764853, 0.27005482],\n",
       "       [0.15941036, 0.20449872, 0.13066427, 0.19539199, 0.19878961],\n",
       "       [0.38435821, 0.33885487, 0.32081961, 0.33329811, 0.49582398]])"
      ]
     },
     "execution_count": 39,
     "metadata": {},
     "output_type": "execute_result"
    }
   ],
   "source": [
    "arr/2"
   ]
  },
  {
   "cell_type": "code",
   "execution_count": 40,
   "id": "62e0b241",
   "metadata": {},
   "outputs": [
    {
     "data": {
      "text/plain": [
       "array([[2.09916799, 1.9636009 , 2.20025175, 1.21149164, 1.42118365],\n",
       "       [2.12703141, 1.47616222, 1.47110119, 1.80796892, 1.71387646],\n",
       "       [2.49291101, 1.8891245 , 2.23848414, 1.29084503, 1.71619501],\n",
       "       [1.37550471, 1.50530786, 1.29865425, 1.47813918, 1.48821769],\n",
       "       [2.15699581, 1.96936223, 1.89959217, 1.94759684, 2.69567318]])"
      ]
     },
     "execution_count": 40,
     "metadata": {},
     "output_type": "execute_result"
    }
   ],
   "source": [
    "np.exp(arr)"
   ]
  },
  {
   "cell_type": "code",
   "execution_count": 41,
   "id": "944ff3fb",
   "metadata": {},
   "outputs": [
    {
     "data": {
      "text/plain": [
       "array([[0.74154107, 0.67477998, 0.78857178, 0.19185236, 0.35149008],\n",
       "       [0.7547273 , 0.38944562, 0.38601123, 0.59220407, 0.53875774],\n",
       "       [0.91345111, 0.63611349, 0.80579891, 0.25529706, 0.54010963],\n",
       "       [0.31882072, 0.40899744, 0.26132854, 0.39078399, 0.39757923],\n",
       "       [0.76871643, 0.67770975, 0.64163922, 0.66659623, 0.99164796]])"
      ]
     },
     "execution_count": 41,
     "metadata": {},
     "output_type": "execute_result"
    }
   ],
   "source": [
    "arr"
   ]
  },
  {
   "cell_type": "code",
   "execution_count": 44,
   "id": "3b251a58",
   "metadata": {},
   "outputs": [
    {
     "data": {
      "text/plain": [
       "array([[-0.12986479, -0.17083781, -0.10315877, -0.71703285, -0.45408693],\n",
       "       [-0.12220994, -0.40955317, -0.41340006, -0.22752861, -0.26860648],\n",
       "       [-0.03931469, -0.19646539, -0.09377332, -0.59295418, -0.26751808],\n",
       "       [-0.49645346, -0.38827942, -0.58281316, -0.40806324, -0.40057632],\n",
       "       [-0.11423384, -0.16895627, -0.1927091 , -0.17613715, -0.00364248]])"
      ]
     },
     "execution_count": 44,
     "metadata": {},
     "output_type": "execute_result"
    }
   ],
   "source": [
    "np.log10(arr)"
   ]
  },
  {
   "cell_type": "code",
   "execution_count": 45,
   "id": "0fe42498",
   "metadata": {},
   "outputs": [
    {
     "data": {
      "text/plain": [
       "array([[0.91591943, 0.80006403, 1.00636747, 0.1942414 , 0.36671804],\n",
       "       [0.94046558, 0.41040702, 0.40639979, 0.67275254, 0.59774226],\n",
       "       [1.29557208, 0.73852025, 1.04165712, 0.26099205, 0.59957866],\n",
       "       [0.33008113, 0.43343977, 0.2674446 , 0.41197166, 0.41994263],\n",
       "       [0.96718096, 0.80488045, 0.74709485, 0.78672884, 1.52916438]])"
      ]
     },
     "execution_count": 45,
     "metadata": {},
     "output_type": "execute_result"
    }
   ],
   "source": [
    "np.tan(arr)"
   ]
  },
  {
   "cell_type": "code",
   "execution_count": 46,
   "id": "22b870ef",
   "metadata": {},
   "outputs": [
    {
     "data": {
      "text/plain": [
       "array([[0.74154107, 0.67477998, 0.78857178, 0.19185236, 0.35149008],\n",
       "       [0.7547273 , 0.38944562, 0.38601123, 0.59220407, 0.53875774],\n",
       "       [0.91345111, 0.63611349, 0.80579891, 0.25529706, 0.54010963],\n",
       "       [0.31882072, 0.40899744, 0.26132854, 0.39078399, 0.39757923],\n",
       "       [0.76871643, 0.67770975, 0.64163922, 0.66659623, 0.99164796]])"
      ]
     },
     "execution_count": 46,
     "metadata": {},
     "output_type": "execute_result"
    }
   ],
   "source": [
    "arr\n"
   ]
  },
  {
   "cell_type": "code",
   "execution_count": 48,
   "id": "8445c45d",
   "metadata": {},
   "outputs": [
    {
     "data": {
      "text/plain": [
       "array([3.49725663, 2.78704629, 2.88334968, 2.09673371, 2.81958464])"
      ]
     },
     "execution_count": 48,
     "metadata": {},
     "output_type": "execute_result"
    }
   ],
   "source": [
    "np.sum(arr, axis=0)"
   ]
  },
  {
   "cell_type": "code",
   "execution_count": 49,
   "id": "11dc58d6",
   "metadata": {},
   "outputs": [
    {
     "data": {
      "text/plain": [
       "array([0.31882072, 0.38944562, 0.26132854, 0.19185236, 0.35149008])"
      ]
     },
     "execution_count": 49,
     "metadata": {},
     "output_type": "execute_result"
    }
   ],
   "source": [
    "np.min(arr, axis=0)"
   ]
  },
  {
   "cell_type": "code",
   "execution_count": 50,
   "id": "404ce53e",
   "metadata": {},
   "outputs": [
    {
     "data": {
      "text/plain": [
       "array([0.69945133, 0.55740926, 0.57666994, 0.41934674, 0.56391693])"
      ]
     },
     "execution_count": 50,
     "metadata": {},
     "output_type": "execute_result"
    }
   ],
   "source": [
    "np.mean(arr, axis=0)"
   ]
  },
  {
   "cell_type": "code",
   "execution_count": 51,
   "id": "de224125",
   "metadata": {},
   "outputs": [
    {
     "data": {
      "text/plain": [
       "array([0.20015004, 0.13013862, 0.21790568, 0.18465849, 0.22669231])"
      ]
     },
     "execution_count": 51,
     "metadata": {},
     "output_type": "execute_result"
    }
   ],
   "source": [
    "np.std(arr, axis=0)"
   ]
  },
  {
   "cell_type": "code",
   "execution_count": 52,
   "id": "b1e3c5bf",
   "metadata": {},
   "outputs": [
    {
     "data": {
      "text/plain": [
       "array([0.04006004, 0.01693606, 0.04748289, 0.03409876, 0.0513894 ])"
      ]
     },
     "execution_count": 52,
     "metadata": {},
     "output_type": "execute_result"
    }
   ],
   "source": [
    "np.var(arr, axis=0)"
   ]
  },
  {
   "cell_type": "code",
   "execution_count": 53,
   "id": "29e62112",
   "metadata": {},
   "outputs": [
    {
     "data": {
      "text/plain": [
       "array([[0.38601123, 0.59220407],\n",
       "       [0.80579891, 0.25529706],\n",
       "       [0.26132854, 0.39078399],\n",
       "       [0.64163922, 0.66659623]])"
      ]
     },
     "execution_count": 53,
     "metadata": {},
     "output_type": "execute_result"
    }
   ],
   "source": [
    "arr[1:,2:4] \n"
   ]
  },
  {
   "cell_type": "code",
   "execution_count": 54,
   "id": "c0bbee1d",
   "metadata": {},
   "outputs": [
    {
     "data": {
      "text/plain": [
       "array([[0.74154107, 0.67477998, 0.78857178, 0.19185236, 0.35149008],\n",
       "       [0.7547273 , 0.38944562, 0.38601123, 0.59220407, 0.53875774],\n",
       "       [0.91345111, 0.63611349, 0.80579891, 0.25529706, 0.54010963],\n",
       "       [0.31882072, 0.40899744, 0.26132854, 0.39078399, 0.39757923],\n",
       "       [0.76871643, 0.67770975, 0.64163922, 0.66659623, 0.99164796]])"
      ]
     },
     "execution_count": 54,
     "metadata": {},
     "output_type": "execute_result"
    }
   ],
   "source": [
    "arr"
   ]
  },
  {
   "cell_type": "code",
   "execution_count": 55,
   "id": "36034b30",
   "metadata": {},
   "outputs": [
    {
     "data": {
      "text/plain": [
       "array([[0.19185236, 0.35149008, 0.67477998, 0.74154107, 0.78857178],\n",
       "       [0.38601123, 0.38944562, 0.53875774, 0.59220407, 0.7547273 ],\n",
       "       [0.25529706, 0.54010963, 0.63611349, 0.80579891, 0.91345111],\n",
       "       [0.26132854, 0.31882072, 0.39078399, 0.39757923, 0.40899744],\n",
       "       [0.64163922, 0.66659623, 0.67770975, 0.76871643, 0.99164796]])"
      ]
     },
     "execution_count": 55,
     "metadata": {},
     "output_type": "execute_result"
    }
   ],
   "source": [
    "np.sort(arr, axis=1)"
   ]
  },
  {
   "cell_type": "code",
   "execution_count": 56,
   "id": "048e44d7",
   "metadata": {},
   "outputs": [
    {
     "data": {
      "text/plain": [
       "array([[0.19185236, 0.35149008, 0.67477998, 0.74154107, 0.78857178],\n",
       "       [0.38601123, 0.38944562, 0.53875774, 0.59220407, 0.7547273 ],\n",
       "       [0.25529706, 0.54010963, 0.63611349, 0.80579891, 0.91345111],\n",
       "       [0.26132854, 0.31882072, 0.39078399, 0.39757923, 0.40899744],\n",
       "       [0.64163922, 0.66659623, 0.67770975, 0.76871643, 0.99164796]])"
      ]
     },
     "execution_count": 56,
     "metadata": {},
     "output_type": "execute_result"
    }
   ],
   "source": [
    "np.sort(arr)"
   ]
  },
  {
   "cell_type": "code",
   "execution_count": 57,
   "id": "ad737629",
   "metadata": {},
   "outputs": [
    {
     "data": {
      "text/plain": [
       "array([[0.74154107, 0.7547273 , 0.91345111, 0.31882072, 0.76871643],\n",
       "       [0.67477998, 0.38944562, 0.63611349, 0.40899744, 0.67770975],\n",
       "       [0.78857178, 0.38601123, 0.80579891, 0.26132854, 0.64163922],\n",
       "       [0.19185236, 0.59220407, 0.25529706, 0.39078399, 0.66659623],\n",
       "       [0.35149008, 0.53875774, 0.54010963, 0.39757923, 0.99164796]])"
      ]
     },
     "execution_count": 57,
     "metadata": {},
     "output_type": "execute_result"
    }
   ],
   "source": [
    "arr.T\n",
    "# T stands for transpose//\n",
    "# rows are now columns here //"
   ]
  },
  {
   "cell_type": "code",
   "execution_count": 3,
   "id": "6051172b",
   "metadata": {},
   "outputs": [
    {
     "ename": "NameError",
     "evalue": "name 'arr' is not defined",
     "output_type": "error",
     "traceback": [
      "\u001b[1;31m---------------------------------------------------------------------------\u001b[0m",
      "\u001b[1;31mNameError\u001b[0m                                 Traceback (most recent call last)",
      "Cell \u001b[1;32mIn[3], line 1\u001b[0m\n\u001b[1;32m----> 1\u001b[0m arr[:\u001b[38;5;241m3\u001b[39m,:]\u001b[38;5;241m.\u001b[39mT\n",
      "\u001b[1;31mNameError\u001b[0m: name 'arr' is not defined"
     ]
    }
   ],
   "source": [
    "arr[:3,:].T"
   ]
  },
  {
   "cell_type": "code",
   "execution_count": 4,
   "id": "7888b4b2",
   "metadata": {},
   "outputs": [
    {
     "ename": "NameError",
     "evalue": "name 'np' is not defined",
     "output_type": "error",
     "traceback": [
      "\u001b[1;31m---------------------------------------------------------------------------\u001b[0m",
      "\u001b[1;31mNameError\u001b[0m                                 Traceback (most recent call last)",
      "Cell \u001b[1;32mIn[4], line 1\u001b[0m\n\u001b[1;32m----> 1\u001b[0m arr \u001b[38;5;241m=\u001b[39m np\u001b[38;5;241m.\u001b[39mrandom\u001b[38;5;241m.\u001b[39mrand(\u001b[38;5;241m5\u001b[39m,\u001b[38;5;241m5\u001b[39m)\n\u001b[0;32m      2\u001b[0m arr\n",
      "\u001b[1;31mNameError\u001b[0m: name 'np' is not defined"
     ]
    }
   ],
   "source": [
    "arr = np.random.rand(5,5)\n",
    "arr"
   ]
  },
  {
   "cell_type": "code",
   "execution_count": 6,
   "id": "148f6e93",
   "metadata": {},
   "outputs": [],
   "source": [
    "# 15 july 2023 //\n",
    "\n",
    "import numpy as np\n",
    "\n",
    "arr= np.random.rand(5,5)"
   ]
  },
  {
   "cell_type": "code",
   "execution_count": 7,
   "id": "51620c99",
   "metadata": {},
   "outputs": [
    {
     "data": {
      "text/plain": [
       "array([[0.77415523, 0.07368743, 0.62150997, 0.01990177, 0.76813989],\n",
       "       [0.05523089, 0.74737942, 0.96032446, 0.27097639, 0.95039496],\n",
       "       [0.81342675, 0.28672982, 0.33515166, 0.69699835, 0.52604946],\n",
       "       [0.70870721, 0.38051723, 0.3205428 , 0.699648  , 0.59440287],\n",
       "       [0.44399703, 0.15363579, 0.31898533, 0.81206101, 0.6590895 ]])"
      ]
     },
     "execution_count": 7,
     "metadata": {},
     "output_type": "execute_result"
    }
   ],
   "source": [
    "arr"
   ]
  },
  {
   "cell_type": "code",
   "execution_count": 8,
   "id": "113d49c7",
   "metadata": {},
   "outputs": [
    {
     "data": {
      "text/plain": [
       "array([[0.77415523, 0.07368743, 0.62150997, 0.01990177, 0.76813989],\n",
       "       [0.05523089, 0.74737942, 0.96032446, 0.27097639, 0.95039496],\n",
       "       [0.81342675, 0.28672982, 0.33515166, 0.69699835, 0.52604946]])"
      ]
     },
     "execution_count": 8,
     "metadata": {},
     "output_type": "execute_result"
    }
   ],
   "source": [
    "arr[:3,:]"
   ]
  },
  {
   "cell_type": "code",
   "execution_count": 9,
   "id": "01c61068",
   "metadata": {},
   "outputs": [
    {
     "data": {
      "text/plain": [
       "array([[0.77415523, 0.05523089, 0.81342675],\n",
       "       [0.07368743, 0.74737942, 0.28672982],\n",
       "       [0.62150997, 0.96032446, 0.33515166],\n",
       "       [0.01990177, 0.27097639, 0.69699835],\n",
       "       [0.76813989, 0.95039496, 0.52604946]])"
      ]
     },
     "execution_count": 9,
     "metadata": {},
     "output_type": "execute_result"
    }
   ],
   "source": [
    "arr[:3,:].T\n",
    "arr[:3,:].transpose() \n",
    "# this is the original version.\n",
    "\n",
    "# here rows are now columns\n",
    "# we have use first three rows and columns"
   ]
  },
  {
   "cell_type": "code",
   "execution_count": 10,
   "id": "5b3d46f6",
   "metadata": {},
   "outputs": [
    {
     "data": {
      "text/plain": [
       "array([0.77415523, 0.07368743, 0.62150997, 0.01990177, 0.76813989,\n",
       "       0.05523089, 0.74737942, 0.96032446, 0.27097639, 0.95039496,\n",
       "       0.81342675, 0.28672982, 0.33515166, 0.69699835, 0.52604946])"
      ]
     },
     "execution_count": 10,
     "metadata": {},
     "output_type": "execute_result"
    }
   ],
   "source": [
    "arr[:3,:].flatten()\n",
    "\n",
    "# it has converted it again in it's original form mentioned above //"
   ]
  },
  {
   "cell_type": "code",
   "execution_count": 12,
   "id": "100eeafd",
   "metadata": {},
   "outputs": [
    {
     "data": {
      "text/plain": [
       "array([4, 5, 6, 7, 8])"
      ]
     },
     "execution_count": 12,
     "metadata": {},
     "output_type": "execute_result"
    }
   ],
   "source": [
    "arr = np.array([4,5,6,7,8])\n",
    "arr"
   ]
  },
  {
   "cell_type": "code",
   "execution_count": 13,
   "id": "ebbbdd02",
   "metadata": {},
   "outputs": [
    {
     "data": {
      "text/plain": [
       "array([4, 5, 6, 7, 8, 8])"
      ]
     },
     "execution_count": 13,
     "metadata": {},
     "output_type": "execute_result"
    }
   ],
   "source": [
    "arr1 = np.append(arr,8)\n",
    "arr1"
   ]
  },
  {
   "cell_type": "code",
   "execution_count": 14,
   "id": "dfc00fd3",
   "metadata": {},
   "outputs": [
    {
     "data": {
      "text/plain": [
       "array([1, 2, 3, 4, 5, 6, 7, 8])"
      ]
     },
     "execution_count": 14,
     "metadata": {},
     "output_type": "execute_result"
    }
   ],
   "source": [
    "arr2 = np.insert(arr, 0, [1,2,3])\n",
    "arr2"
   ]
  },
  {
   "cell_type": "code",
   "execution_count": 16,
   "id": "2661d8c6",
   "metadata": {},
   "outputs": [
    {
     "data": {
      "text/plain": [
       "array([1, 3, 5, 6, 7, 8])"
      ]
     },
     "execution_count": 16,
     "metadata": {},
     "output_type": "execute_result"
    }
   ],
   "source": [
    "arr3 = np.delete(arr2, [1,3])\n",
    "arr3"
   ]
  },
  {
   "cell_type": "code",
   "execution_count": 32,
   "id": "30ae0512",
   "metadata": {},
   "outputs": [
    {
     "name": "stdout",
     "output_type": "stream",
     "text": [
      "[[1 2 3 4 5 6 7 8]\n",
      " [1 2 3 4 5 6 7 8]]\n"
     ]
    }
   ],
   "source": [
    "arr1 = np.array([[1,2,3,4], [1,2,3,4]])\n",
    "arr2 = np.array([[5,6,7,8], [5,6,7,8]])\n",
    "arr_cat = np.concatenate((arr1,arr2), axis=1)\n",
    "print(arr_cat)\n",
    "\n",
    "# this will show me an error when axis is 0 and arr1 has 3 values each"
   ]
  },
  {
   "cell_type": "code",
   "execution_count": 33,
   "id": "1973deb5",
   "metadata": {},
   "outputs": [
    {
     "data": {
      "text/plain": [
       "array([[1, 2, 3, 4],\n",
       "       [1, 2, 3, 4],\n",
       "       [5, 6, 7, 8],\n",
       "       [5, 6, 7, 8]])"
      ]
     },
     "execution_count": 33,
     "metadata": {},
     "output_type": "execute_result"
    }
   ],
   "source": [
    "catV = np.vstack((arr1, arr2))\n",
    "catV\n",
    "# vertical stack"
   ]
  },
  {
   "cell_type": "code",
   "execution_count": 35,
   "id": "c2b44fc2",
   "metadata": {},
   "outputs": [
    {
     "data": {
      "text/plain": [
       "array([[1, 2, 3, 4, 5, 6, 7, 8],\n",
       "       [1, 2, 3, 4, 5, 6, 7, 8]])"
      ]
     },
     "execution_count": 35,
     "metadata": {},
     "output_type": "execute_result"
    }
   ],
   "source": [
    "cat = np.hstack((arr1, arr2))\n",
    "cat\n",
    "# horizontal"
   ]
  },
  {
   "cell_type": "code",
   "execution_count": 36,
   "id": "6718fcf2",
   "metadata": {},
   "outputs": [
    {
     "data": {
      "text/plain": [
       "array([1, 2, 3, 4, 5, 6])"
      ]
     },
     "execution_count": 36,
     "metadata": {},
     "output_type": "execute_result"
    }
   ],
   "source": [
    "# unique values\n",
    "arr = np.array([1,2,3,2,4,1,4,5,2,6])\n",
    "np.unique(arr)"
   ]
  },
  {
   "cell_type": "code",
   "execution_count": 38,
   "id": "3d1f4bd7",
   "metadata": {},
   "outputs": [
    {
     "name": "stdout",
     "output_type": "stream",
     "text": [
      "[1 2 3 4 5 6]\n",
      "[2 3 1 2 1 1]\n"
     ]
    }
   ],
   "source": [
    "uniques, counts = np.unique(arr, return_counts=True)\n",
    "print(uniques)\n",
    "print(counts)"
   ]
  },
  {
   "cell_type": "code",
   "execution_count": 40,
   "id": "b39b07c8",
   "metadata": {
    "scrolled": false
   },
   "outputs": [
    {
     "name": "stdout",
     "output_type": "stream",
     "text": [
      "[3 4 5]\n",
      "[1 2 3 4 5 6 7]\n",
      "[1 2]\n",
      "[1 2 6 7]\n"
     ]
    }
   ],
   "source": [
    "# intersection, differentiation, neither\n",
    "\n",
    "arr1 = np.array([1,2,3,4,5])\n",
    "arr2 = np.array([3,4,5,6,7])\n",
    "print(np.intersect1d(arr1, arr2))\n",
    "print(np.union1d(arr1, arr2))\n",
    "\n",
    "# what's in array 1 but not in array 2 : use diff\n",
    "print(np.setdiff1d(arr1, arr2))\n",
    "\n",
    "# what's in 2 but not in 1 and vice-versa\n",
    "print(np.setxor1d(arr1, arr2))"
   ]
  },
  {
   "cell_type": "code",
   "execution_count": null,
   "id": "5147c6e2",
   "metadata": {},
   "outputs": [],
   "source": [
    "# important points to remember while working on R : \n",
    "\n",
    "# imagine you have some NA values in your column and you dont want to include them you can simply remove them by using (THIS IS FOR MEAN)\n",
    "# mean(tablename$columnname, na.rm = TRUE)    ->>>> syntax"
   ]
  }
 ],
 "metadata": {
  "kernelspec": {
   "display_name": "Python 3 (ipykernel)",
   "language": "python",
   "name": "python3"
  },
  "language_info": {
   "codemirror_mode": {
    "name": "ipython",
    "version": 3
   },
   "file_extension": ".py",
   "mimetype": "text/x-python",
   "name": "python",
   "nbconvert_exporter": "python",
   "pygments_lexer": "ipython3",
   "version": "3.11.3"
  }
 },
 "nbformat": 4,
 "nbformat_minor": 5
}
